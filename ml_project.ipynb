{
 "cells": [
  {
   "cell_type": "markdown",
   "metadata": {},
   "source": [
    "# Machine Learning Project\n",
    "\n",
    "__Pia CHANCEREL - Raphael LASRY - Maxime POLI__\n",
    "\n",
    "Based on the article :\n",
    "\n",
    "_A Continuation Method for Semi-Supervised SVMs_\n",
    "\n",
    "Olivier Chapelle $\\hspace{3.9cm}$ olivier.chapelle@tuebingen.mpg.de\n",
    "\n",
    "Mingmin Chi $\\hspace{4.5cm}$ mingmin.chi@tuebingen.mpg.de\n",
    "\n",
    "Alexander Zien $\\hspace{4.1cm}$ alexander.zien@tuebingen.mpg.de\n",
    "\n",
    "\n",
    "Max Planck Institute for Biological Cybernetics, Tübingen, Germany\n",
    "\n",
    "https://dl.acm.org/doi/pdf/10.1145/1143844.1143868?download=true"
   ]
  },
  {
   "cell_type": "code",
   "execution_count": 91,
   "metadata": {},
   "outputs": [],
   "source": [
    "import numpy as np\n",
    "import scipy as sc\n",
    "import pandas as pd\n",
    "from tqdm import tqdm\n",
    "import time as time"
   ]
  },
  {
   "cell_type": "markdown",
   "metadata": {},
   "source": [
    "# Data\n",
    "\n",
    "20newsgroup dataset: https://scikit-learn.org/0.19/datasets/twenty_newsgroups.html\n",
    "\n",
    "Dataset of an old forum. We will only focus on messages related to windows and mac. The goal is to predict the subject of the message (windows or mac) thanks to a $S^3VM$ method."
   ]
  },
  {
   "cell_type": "code",
   "execution_count": 92,
   "metadata": {},
   "outputs": [],
   "source": [
    "from sklearn.datasets import fetch_20newsgroups\n",
    "from sklearn.feature_extraction.text import TfidfVectorizer\n",
    "from sklearn.preprocessing import PolynomialFeatures"
   ]
  },
  {
   "cell_type": "code",
   "execution_count": 93,
   "metadata": {},
   "outputs": [],
   "source": [
    "data = pd.read_csv('data.csv')\n",
    "data['date_int'] = pd.to_datetime(data['date']).dt.strftime(\"%Y%m%d\").astype(int)\n",
    "city = pd.get_dummies(pd.Categorical(data['city']), prefix='city')\n",
    "X_housedata = np.concatenate([data[['date_int', 'bedrooms', 'bathrooms', 'sqft_living', 'sqft_lot', 'floors', 'waterfront', 'view', 'condition', 'sqft_above', 'sqft_basement', 'yr_built', 'yr_renovated']].to_numpy(), city.to_numpy()], axis=1)\n",
    "Y_housedata = data['price'].to_numpy()\n",
    "\n",
    "r = np.random.permutation(len(X_housedata))\n",
    "X_train = X_housedata[r[0:3500], :]\n",
    "Y_train = Y_housedata[r[0:3500]]\n",
    "X_val = X_housedata[r[3500:4000], :]\n",
    "Y_val = Y_housedata[r[3500:4000]]\n",
    "X_test = X_housedata[r[4000:], :]\n",
    "Y_test = Y_housedata[r[4000:]]\n",
    "\n",
    "X_train = (X_train - np.mean(X_train, axis = 0)) / (np.std(X_train, axis = 0) + 10 ** (-15))\n",
    "X_val = (X_val - np.mean(X_val, axis = 0)) / (np.std(X_val, axis = 0) + 10 ** (-15))\n",
    "X_test = (X_test - np.mean(X_test, axis = 0)) / (np.std(X_test, axis = 0) + 10 ** (-15))\n",
    "\n",
    "Y_train = 2 * np.array(np.array(Y_train) - np.median(Y_train) > 0).astype(int) - 1\n",
    "Y_val = 2 * np.array(np.array(Y_val) - np.median(Y_val) > 0).astype(int) - 1\n",
    "Y_test = 2 * np.array(np.array(Y_test) - np.median(Y_test) > 0).astype(int) - 1"
   ]
  },
  {
   "cell_type": "code",
   "execution_count": 94,
   "metadata": {},
   "outputs": [],
   "source": [
    "# print(newsgroups_train.DESCR) # Documentation of how to use the dataset"
   ]
  },
  {
   "cell_type": "code",
   "execution_count": 95,
   "metadata": {},
   "outputs": [],
   "source": [
    "cat = ['comp.sys.mac.hardware', 'comp.os.ms-windows.misc']\n",
    "# cat = ['sci.crypt', 'sci.electronics']\n",
    "newsgroups_train = fetch_20newsgroups(subset = 'train', categories = cat) \n",
    "newsgroups_test = fetch_20newsgroups(subset = 'test', categories = cat) "
   ]
  },
  {
   "cell_type": "code",
   "execution_count": 96,
   "metadata": {},
   "outputs": [
    {
     "name": "stdout",
     "output_type": "stream",
     "text": [
      "training set\n",
      "posts (1169,)\n",
      "class (1169,)\n",
      "test set\n",
      "posts (779,)\n",
      "class (779,)\n"
     ]
    }
   ],
   "source": [
    "print('training set')\n",
    "print('posts', newsgroups_train.filenames.shape) # Text, content of the messages\n",
    "print('class', newsgroups_train.target.shape) # In which categories the message should be classified\n",
    "print('test set')\n",
    "print('posts', newsgroups_test.filenames.shape)\n",
    "print('class', newsgroups_test.target.shape)"
   ]
  },
  {
   "cell_type": "code",
   "execution_count": 97,
   "metadata": {},
   "outputs": [
    {
     "name": "stdout",
     "output_type": "stream",
     "text": [
      "(1169, 64711)\n",
      "(779, 64711)\n"
     ]
    }
   ],
   "source": [
    "# Converting text to vectors\n",
    "vectorizer = TfidfVectorizer(encoding='latin1')\n",
    "# Pas sûr de ma solution mais ça a l'air d'être ça\n",
    "vectorizer.fit(newsgroups_train.data+newsgroups_test.data) # From a text message to a sparse matrix\n",
    "vectors_train = vectorizer.transform(newsgroups_train.data)\n",
    "vectors_test = vectorizer.transform(newsgroups_test.data)\n",
    "print(vectors_train.shape)\n",
    "print(vectors_test.shape)"
   ]
  },
  {
   "cell_type": "code",
   "execution_count": 98,
   "metadata": {},
   "outputs": [
    {
     "data": {
      "text/plain": [
       "134.997432605905"
      ]
     },
     "execution_count": 98,
     "metadata": {},
     "output_type": "execute_result"
    }
   ],
   "source": [
    "# Nombre moyen de features non nulles\n",
    "vectors_test.nnz/float(vectors_test.shape[0])"
   ]
  },
  {
   "cell_type": "code",
   "execution_count": 99,
   "metadata": {},
   "outputs": [
    {
     "name": "stdout",
     "output_type": "stream",
     "text": [
      "  (0, 64049)\t0.48698547371009104\n",
      "  (0, 63176)\t0.08657387052179862\n",
      "  (0, 57623)\t0.029946272245423237\n",
      "  (0, 57374)\t0.14037101449771663\n",
      "  (0, 56007)\t0.0379672998581152\n",
      "  (0, 55632)\t0.053424020420574446\n",
      "  (0, 55628)\t0.055301137935004706\n",
      "  (0, 55616)\t0.12174636842752276\n",
      "  (0, 54250)\t0.01693561543176528\n",
      "  (0, 52541)\t0.06864484419802228\n",
      "  (0, 47088)\t0.046707759073707104\n",
      "  (0, 45489)\t0.017492089885747925\n",
      "  (0, 44970)\t0.04061802614096353\n",
      "  (0, 42725)\t0.03137224370687498\n",
      "  (0, 40041)\t0.0350193637580241\n",
      "  (0, 39476)\t0.12174636842752276\n",
      "  (0, 37639)\t0.09287541032933726\n",
      "  (0, 37615)\t0.05948595403656421\n",
      "  (0, 37283)\t0.016987832170248945\n",
      "  (0, 35951)\t0.03630556668468965\n",
      "  (0, 33448)\t0.04507733059640645\n",
      "  (0, 33364)\t0.04324091422736177\n",
      "  (0, 32785)\t0.0215518454785867\n",
      "  (0, 32419)\t0.02923096397332353\n",
      "  (0, 30806)\t0.04706431151540918\n",
      "  :\t:\n",
      "  (1168, 27572)\t0.08697259923806679\n",
      "  (1168, 27081)\t0.05745095491042798\n",
      "  (1168, 24695)\t0.11124046544647209\n",
      "  (1168, 24671)\t0.2385789602475931\n",
      "  (1168, 24613)\t0.3173604242341456\n",
      "  (1168, 24115)\t0.10578680807804854\n",
      "  (1168, 23681)\t0.06589324444138098\n",
      "  (1168, 23671)\t0.06682759055635971\n",
      "  (1168, 22495)\t0.11641600658630805\n",
      "  (1168, 21921)\t0.09436073961548216\n",
      "  (1168, 21717)\t0.12444808405291607\n",
      "  (1168, 21077)\t0.0703711969775451\n",
      "  (1168, 19701)\t0.028951997417864035\n",
      "  (1168, 18481)\t0.029667898139007186\n",
      "  (1168, 17322)\t0.07918504659979843\n",
      "  (1168, 16940)\t0.03364077954580052\n",
      "  (1168, 16806)\t0.06903112076089936\n",
      "  (1168, 16134)\t0.06015267645407973\n",
      "  (1168, 10545)\t0.13498135374057535\n",
      "  (1168, 9456)\t0.13498135374057535\n",
      "  (1168, 5586)\t0.2560751780952904\n",
      "  (1168, 5573)\t0.0798567182129145\n",
      "  (1168, 5223)\t0.06375868885826559\n",
      "  (1168, 2279)\t0.06444106721190178\n",
      "  (1168, 1484)\t0.062470455355491214\n"
     ]
    }
   ],
   "source": [
    "print(vectors_train) # Sparse matrix. The first index is the index of the message and the second ones are the indexes whithin this matrix where the value isn't a 0."
   ]
  },
  {
   "cell_type": "markdown",
   "metadata": {},
   "source": [
    "# S3VM"
   ]
  },
  {
   "cell_type": "code",
   "execution_count": null,
   "metadata": {},
   "outputs": [],
   "source": [
    "X = np.ones((3, 4))\n",
    "Y = np.arange(3)\n",
    "print(np.multiply(X.T, Y).T)\n",
    "(X.T * Y).T"
   ]
  },
  {
   "cell_type": "code",
   "execution_count": 193,
   "metadata": {},
   "outputs": [],
   "source": [
    "class S3VMClassifier():\n",
    "    \"\"\"\n",
    "        S3VM class as defined in the article.\n",
    "    \"\"\"\n",
    "    def __init__(self, C=1.0, C_=1.0, lr=0.01, s=3):\n",
    "        self.C = C\n",
    "        self.C_ = C_\n",
    "        self.lr = lr\n",
    "        self.s = s\n",
    "        self.loss_list = []\n",
    "        self.X = None\n",
    "        self.Y = None\n",
    "        self.X_ = None\n",
    "        self.w = None\n",
    "        self.b = None\n",
    "        \n",
    "    def compute_gamma(self, epochs):\n",
    "        \"\"\"\n",
    "            Compute the list of values of gamma (defined at the §3.2).\n",
    "        \"\"\"\n",
    "        m, d = self.X_.shape\n",
    "#         matrix = sc.sparse.lil_matrix((d, d))\n",
    "        matrix = np.zeros((d, d))\n",
    "        for i in range(m):\n",
    "#             matrix += self.X_[i].T@self.X_[i] / sc.sparse.linalg.norm(self.X_[i]) ** 3\n",
    "            matrix += self.X_[i].T@self.X_[i] / np.linalg.norm(self.X_[i]) ** 3\n",
    "\n",
    "        lamb_max = np.linalg.eigh(matrix)[0][- 1]\n",
    "        gamma_0 = (self.C_ * lamb_max) ** (2 / 3) / (2 * self.s) ** (1 / 3)\n",
    "#         gamma_end = 1 / (epochs * 2 * self.s * sc.sparse.linalg.norm(self.X_, axis=1).max() ** 2)\n",
    "        gamma_end = 1 / (epochs * 2 * self.s * np.linalg.norm(self.X_, axis=1).max() ** 2)\n",
    "        gamma_list = [(gamma_end / gamma_0) ** (i / epochs) * gamma_0 for i in range(epochs)]\n",
    "        return gamma_list\n",
    "    \n",
    "    def loss(self, gamma):\n",
    "        \"\"\"\n",
    "            Compute the convolved loss (defined at the end of the §3.1).\n",
    "        \"\"\"\n",
    "        d = self.X.shape[1]\n",
    "        a = 1 + 2 * gamma * self.s * np.linalg.norm(self.X_, axis = 1) ** 2\n",
    "        e = (self.Y * (self.X.dot(self.w) + self.b) - 1) / np.sqrt(2 * gamma) / np.linalg.norm(self.X, axis = 1)\n",
    "        L_labelled = self.C * np.sum(gamma * np.linalg.norm(self.X, axis = 1) / np.sqrt(2) \n",
    "                                     * (np.exp(- e ** 2) / np.sqrt(np.pi) - e * sc.special.erfc(e)))\n",
    "        L_unlabelled = self.C_ * np.sum(1 / np.sqrt(a) * np.exp(- self.s * (self.X_.dot(self.w) + self.b) ** 2 / a))\n",
    "        return np.dot(self.w, self.w) / 2 + gamma * d / 2 + L_labelled + L_unlabelled\n",
    "    \n",
    "    def gradient_loss(self, gamma, labelled):\n",
    "        \"\"\"\n",
    "            Compute the gradient of the loss (defined at the end of the §3.1).\n",
    "        \"\"\"\n",
    "        a = 1 + 2 * gamma * self.s * np.linalg.norm(self.X_, axis = 1) ** 2\n",
    "        e = (self.Y * (self.X.dot(self.w) + self.b) - 1) / np.sqrt(2 * gamma) / np.linalg.norm(self.X, axis = 1)\n",
    "        if labelled:\n",
    "            dL_labelled = self.C / 2 * np.sum(np.multiply(self.X.T, sc.special.erfc(e) * self.Y).T, axis=0)\n",
    "            return self.w - dL_labelled\n",
    "        else:\n",
    "            dL_unlabelled = self.C_ * np.sum(np.multiply(self.X_.T, 2 * self.s * (self.X_.dot(self.w) + self.b) / a ** (3 / 2)\n",
    "                                         * np.exp(- self.s * (self.X_.dot(self.w) + self.b) ** 2 / a)), axis=1)\n",
    "            return self.w - dL_unlabelled\n",
    "    \n",
    "    def minimize(self, gamma, epochs):\n",
    "        \"\"\"\n",
    "            Optimise the parameters.\n",
    "        \"\"\"\n",
    "        n, d = self.X.shape\n",
    "        m = self.X_.shape[0]\n",
    "        indexes = np.arange(n + m) - m # positive indexes --> labeled & negative indexes --> unlabeled\n",
    "        gw = np.zeros((n + m, d)) # vector of most recent gradient in w\n",
    "        dw = np.zeros(d) # sum of gw\n",
    "        for ep in range(epochs):\n",
    "            np.random.shuffle(indexes)\n",
    "            for k in range(n + m):\n",
    "                i = indexes[k]\n",
    "                labelled = (i >= 0) # labelled or unlabelled\n",
    "                if i < 0 : # if it's the index of an unlabelled data\n",
    "                    i = - i + n - 1 # its index is in gw\n",
    "                dw -= gw[i]\n",
    "                gw[i] = self.gradient_loss(gamma, labelled)\n",
    "                dw += gw[i]\n",
    "                self.w -= self.lr / min((k + 1) + ep * (n + m), n + m) * dw\n",
    "            self.loss_list.append(self.loss(gamma))\n",
    "    \n",
    "    def fit(self, X, Y, X_, epochs=3, iter_gamma=5, w=None, b=None): # epochs pour la minimisation, iter_gamma pour le nombre de gamma\n",
    "        \"\"\"\n",
    "            Train the model on X_labelled, Y_labelled, X_unlabelled datas.\n",
    "        \"\"\"\n",
    "        \n",
    "        mat = PolynomialFeatures(1)\n",
    "        X = mat.fit_transform(X)\n",
    "        X_ = mat.fit_transform(X_)\n",
    "        \n",
    "        self.X = X\n",
    "        self.Y = Y\n",
    "        \n",
    "        # Centering unlablled data\n",
    "#         values = X_[X_.nonzero()]\n",
    "#         values -= sc.sparse.spmatrix.mean(values, axis = 1)\n",
    "#         self.X_ = values\n",
    "        self.X_ = X_\n",
    "        \n",
    "        gamma_list = self.compute_gamma(iter_gamma)\n",
    "        # warm start\n",
    "        if (w is None) and (b is None) :\n",
    "            _, d = self.X.shape\n",
    "            self.w = np.zeros(d)\n",
    "            self.b = np.mean(Y)\n",
    "        # continuation method\n",
    "        for gamma in tqdm(gamma_list):\n",
    "            self.minimize(gamma, epochs)\n",
    "\n",
    "        self.b = self.w[0]\n",
    "        self.w = self.w[1:]\n",
    "\n",
    "    def predict(self, X):\n",
    "        \"\"\"\n",
    "            Predict the value of Y (0 or 1).\n",
    "        \"\"\"\n",
    "        return 2*(self.w.T.dot(X.T) + self.b >= 0)-1\n",
    "    \n",
    "    def accuracy(self, X, Y):\n",
    "        \"\"\"\n",
    "            Evaluate the accuracy of the prediction.\n",
    "        \"\"\"\n",
    "        return (self.predict(X) == Y).mean()"
   ]
  },
  {
   "cell_type": "code",
   "execution_count": 101,
   "metadata": {},
   "outputs": [],
   "source": [
    "def make_meshgrid(points, h=0.2):\n",
    "    x_min, x_max = points[:,0].min() - 1, points[:,0].max() + 1\n",
    "    y_min, y_max = points[:,1].min() - 1, points[:,1].max() + 1\n",
    "    xx, yy = np.meshgrid(np.arange(x_min, x_max, h), np.arange(y_min, y_max, h))\n",
    "    return xx, yy\n",
    "\n",
    "\n",
    "def plot_contours(ax, model, X, Y, **params):\n",
    "    xx, yy = make_meshgrid(X)\n",
    "    Z = model.predict(np.c_[xx.ravel(), yy.ravel()])\n",
    "    Z = Z.reshape(xx.shape)\n",
    "    out = plt.contourf(xx, yy, Z, cmap=plt.cm.Spectral, **params)\n",
    "    ax.scatter(X[:, 0], X[:, 1], c=Y, s=20, cmap=plt.cm.Spectral)\n",
    "    ax.set_axis_off()"
   ]
  },
  {
   "cell_type": "code",
   "execution_count": 102,
   "metadata": {},
   "outputs": [],
   "source": [
    "#Ma SAGC juste pour débugger\n",
    "\n",
    "class Model():\n",
    "    def __init__(self):\n",
    "        self.stand = False\n",
    "        self.norm = False\n",
    "        self.eigen_vecs = None\n",
    "\n",
    "    def standardize(self, X):\n",
    "        return (X - np.mean(X, 0))/(np.std(X,0)+10**(-11))\n",
    "\n",
    "    def normalize(self, X):\n",
    "        return X/np.linalg.norm(X, axis=1, keepdims=True)\n",
    "        \n",
    "    def orthogonalize(self, X, nb_col):\n",
    "        assert(np.mean(X)!=0)\n",
    "        K = np.dot(X.T, X) / len(X)\n",
    "        _, eigen_vecs = np.linalg.eigh(K)\n",
    "        self.eigen_vecs = eigen_vecs[:,-nb_col:]\n",
    "    \n",
    "\n",
    "class SAGClassifier(Model):\n",
    "    def __init__(self, lambada=1e-3, eta=1e-2):\n",
    "        super().__init__()\n",
    "        self.lambada = lambada\n",
    "        self.eta = eta\n",
    "        self.w = None\n",
    "        self.loss = None # Liste conservant la loss cumulée à chaque époque\n",
    "\n",
    "        \n",
    "    def fit(self, X, Y, epochs=5, nb_iter=None, stand=False, norm=False, nb_col=None):\n",
    "        self.stand = stand\n",
    "        self.norm = norm\n",
    "        self.loss = []\n",
    "        # Traitement des données\n",
    "        if len(X.shape) == 1:\n",
    "            X = np.expand_dims(X, axis=1)\n",
    "        if nb_col is None:\n",
    "            self.eigen_vecs = None\n",
    "        if self.norm:\n",
    "            X = self.normalize(X)\n",
    "        if self.stand:\n",
    "            X = self.standardize(X)\n",
    "            if nb_col is not None:\n",
    "                self.orthogonalize(X, nb_col)\n",
    "                X = np.dot(X, self.eigen_vecs)\n",
    "        \n",
    "        # Implémentation de la SAG\n",
    "        X = np.hstack((np.ones((X.shape[0], 1)), X)) # Ajoute colonne de 1\n",
    "        n, m = X.shape\n",
    "        self.w = np.zeros(m)\n",
    "        d = np.zeros(m)\n",
    "        if nb_iter is not None:\n",
    "            n = min(nb_iter, n)\n",
    "        gradient = np.zeros((n, m))\n",
    "        for k in range(epochs):\n",
    "            r = np.random.permutation(n)\n",
    "            X, Y, gradient = X[r, :], Y[r], gradient[r, :]\n",
    "            current_loss = 0\n",
    "            for i in range(n):\n",
    "                d -= gradient[i]\n",
    "                hinge_loss = max(0,1-Y[i]*np.dot(X[i], self.w))\n",
    "                current_loss += hinge_loss\n",
    "                gradient[i] = -Y[i]*X[i] if hinge_loss > 0 else np.zeros(m)\n",
    "                d += gradient[i]\n",
    "                # L'article n'étant pas clair sur le \"number of unique values sampled so far\" \n",
    "                # et la gestion des époques, je l'ai interprété comme ci-dessous\n",
    "                count = i+1 if k == 0 else n\n",
    "                self.w[1:] = (1 - self.eta*self.lambada) * self.w[1:] - self.eta * d[1:]/count\n",
    "                self.w[0] = self.w[0] - self.eta*d[0]/count\n",
    "            current_loss = 0.5*self.lambada*np.dot(self.w[1:], self.w[1:]) + current_loss/n\n",
    "            self.loss.append(current_loss)\n",
    "    \n",
    "    \n",
    "    def predict(self, X):\n",
    "        if len(X.shape) == 1:\n",
    "            X = np.expand_dims(X, axis=1)\n",
    "        if self.norm:\n",
    "            X = self.standardize(X)\n",
    "        if self.stand:\n",
    "            X = self.standardize(X)\n",
    "            if self.eigen_vecs is not None:\n",
    "                X = np.dot(X, self.eigen_vecs)\n",
    "        X = np.hstack((np.ones((X.shape[0], 1)), X))\n",
    "        return 2*(np.dot(X,self.w) >= 0) - 1"
   ]
  },
  {
   "cell_type": "code",
   "execution_count": 194,
   "metadata": {},
   "outputs": [
    {
     "name": "stderr",
     "output_type": "stream",
     "text": [
      "\n",
      "  0%|                                                                                            | 0/5 [00:00<?, ?it/s]\n",
      " 20%|████████████████▊                                                                   | 1/5 [00:00<00:02,  1.91it/s]\n",
      " 40%|█████████████████████████████████▌                                                  | 2/5 [00:01<00:01,  1.83it/s]\n",
      " 60%|██████████████████████████████████████████████████▍                                 | 3/5 [00:01<00:01,  1.80it/s]\n",
      " 80%|███████████████████████████████████████████████████████████████████▏                | 4/5 [00:02<00:00,  1.75it/s]\n",
      "100%|████████████████████████████████████████████████████████████████████████████████████| 5/5 [00:02<00:00,  1.72it/s]"
     ]
    },
    {
     "name": "stdout",
     "output_type": "stream",
     "text": [
      "1.0\n"
     ]
    },
    {
     "data": {
      "image/png": "[encoded data removed]",
      "text/plain": [
       "<Figure size 576x576 with 1 Axes>"
      ]
     },
     "metadata": {
      "needs_background": "light"
     },
     "output_type": "display_data"
    }
   ],
   "source": [
    "import matplotlib.pyplot as plt\n",
    "\n",
    "n = 150\n",
    "m = 100\n",
    "sigma = 0.01\n",
    "\n",
    "x = np.concatenate(\n",
    "    (np.random.multivariate_normal([0,0], [[sigma, 0], [0, sigma]], n),\n",
    "     np.random.multivariate_normal([1,1], [[sigma, 0], [0, sigma]], n))\n",
    ")\n",
    "\n",
    "y = np.concatenate((np.ones(n), -np.ones(n)))\n",
    "\n",
    "x_ = np.concatenate(\n",
    "    (np.random.multivariate_normal([0,0], [[sigma, 0], [0, sigma]], m),\n",
    "     np.random.multivariate_normal([1,1], [[sigma, 0], [0, sigma]], m))\n",
    ")\n",
    "    \n",
    "# s3vm = SAGClassifier()\n",
    "# s3vm.fit(x, y)\n",
    "\n",
    "s3vm = S3VMClassifier()\n",
    "s3vm.fit(x, y, x_, epochs = 5)\n",
    "print(s3vm.accuracy(x, y))\n",
    "\n",
    "fig, ax = plt.subplots(figsize=(8,8))\n",
    "plot_contours(ax, s3vm, x, y, alpha=0.8)\n",
    "ax.scatter(x[:, 0], x[:, 1], c=y, s=10, cmap=plt.cm.Spectral)\n",
    "ax.scatter(x_[:, 0], x_[:, 1], c='black', s=10)\n",
    "ax.set_title(\"s3vm\")\n",
    "# ax.set_title(\"sagc\")\n",
    "\n",
    "plt.show()"
   ]
  },
  {
   "cell_type": "code",
   "execution_count": 197,
   "metadata": {},
   "outputs": [
    {
     "data": {
      "image/png": "[encoded data removed]",
      "text/plain": [
       "<Figure size 432x288 with 1 Axes>"
      ]
     },
     "metadata": {
      "needs_background": "light"
     },
     "output_type": "display_data"
    }
   ],
   "source": [
    "plt.plot(np.arange(len(s3vm.loss_list)), s3vm.loss_list)\n",
    "plt.show()"
   ]
  },
  {
   "cell_type": "code",
   "execution_count": 173,
   "metadata": {},
   "outputs": [
    {
     "name": "stderr",
     "output_type": "stream",
     "text": [
      "\n",
      "  0%|                                                                                            | 0/5 [00:00<?, ?it/s]\n",
      " 20%|████████████████▊                                                                   | 1/5 [00:48<03:15, 48.80s/it]\n",
      " 40%|█████████████████████████████████▌                                                  | 2/5 [01:36<02:25, 48.61s/it]\n",
      " 60%|██████████████████████████████████████████████████▍                                 | 3/5 [02:27<01:38, 49.08s/it]\n",
      " 80%|███████████████████████████████████████████████████████████████████▏                | 4/5 [03:12<00:47, 47.92s/it]\n",
      "100%|████████████████████████████████████████████████████████████████████████████████████| 5/5 [03:55<00:00, 46.54s/it]"
     ]
    },
    {
     "name": "stdout",
     "output_type": "stream",
     "text": [
      "0.73\n"
     ]
    }
   ],
   "source": [
    "s3vm = S3VMClassifier()\n",
    "\n",
    "# s3vm.fit(vectors_train[:int(0.75 * vectors_train.shape[0]), :], \n",
    "#          newsgroups_train.target[:int(0.75 * vectors_train.shape[0])], \n",
    "#          vectors_train[int(0.75 * vectors_train.shape[0]):, :])\n",
    "# print(s3vm.accuracy(vectors_test, newsgroups_test))\n",
    "\n",
    "proportion = 0.1\n",
    "nb_labelled = int(proportion * X_train.shape[0])\n",
    "s3vm.fit(X_train[:nb_labelled, :], Y_train[:nb_labelled], X_train[nb_labelled:, :])\n",
    "print(s3vm.accuracy(X_test, Y_test))"
   ]
  },
  {
   "cell_type": "code",
   "execution_count": 113,
   "metadata": {},
   "outputs": [],
   "source": [
    "# Y = s3vm.predict(X_test)\n",
    "# print(*zip(Y.astype(int), Y_test))"
   ]
  },
  {
   "cell_type": "code",
   "execution_count": 174,
   "metadata": {},
   "outputs": [
    {
     "name": "stdout",
     "output_type": "stream",
     "text": [
      "[-0.03223121 -0.00333489 -0.36157652  0.19221301 -0.09643794  0.22252176\n",
      "  1.53234077  3.29871823 -0.07652157  0.19192848  0.04502961 -0.33271176\n",
      "  0.1311583  -0.07213159 -0.43601236  0.          2.23174813 -0.40449264\n",
      "  0.61637579 -0.59404568  1.27716828  0.38185747 -0.65726361 -0.95503515\n",
      " -1.01668272 -0.00789252 -0.24181057 -0.3452588  -0.36304819  0.66530433\n",
      "  0.89866654 -0.65527493 -0.28636627 -0.61655556 -0.07956287  1.20334466\n",
      "  0.55048069 -0.03698112  0.49883765  0.44069197 -0.51139984 -0.09948813\n",
      "  0.84828499  0.41965868  1.57077801 -1.57894937  1.27047987 -0.5545401\n",
      " -0.55503341 -1.5768151  -0.27542291  0.38532601 -0.26443965 -0.07651061\n",
      " -0.71943402  0.44635774 -0.06457662]\n",
      "-0.15566659668689073\n"
     ]
    }
   ],
   "source": [
    "print(s3vm.w)\n",
    "print(s3vm.b)"
   ]
  },
  {
   "cell_type": "code",
   "execution_count": null,
   "metadata": {},
   "outputs": [],
   "source": []
  }
 ],
 "metadata": {
  "kernelspec": {
   "display_name": "Python 3",
   "language": "python",
   "name": "python3"
  },
  "language_info": {
   "codemirror_mode": {
    "name": "ipython",
    "version": 3
   },
   "file_extension": ".py",
   "mimetype": "text/x-python",
   "name": "python",
   "nbconvert_exporter": "python",
   "pygments_lexer": "ipython3",
   "version": "3.7.3"
  }
 },
 "nbformat": 4,
 "nbformat_minor": 2
}
